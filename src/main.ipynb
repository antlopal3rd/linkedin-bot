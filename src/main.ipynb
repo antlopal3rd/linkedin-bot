{
 "cells": [
  {
   "cell_type": "code",
   "execution_count": 1,
   "id": "4e4a3990",
   "metadata": {},
   "outputs": [],
   "source": [
    "from selenium import webdriver\n",
    "\n",
    "from selenium.webdriver.chrome.options import Options\n",
    "from webdriver_manager.chrome import ChromeDriverManager\n",
    "from selenium.webdriver.common.by import By\n",
    "\n",
    "import time\n",
    "\n",
    "import random\n",
    "\n",
    "import warnings\n",
    "warnings.filterwarnings('ignore')"
   ]
  },
  {
   "cell_type": "code",
   "execution_count": 2,
   "id": "8c6cadfe",
   "metadata": {},
   "outputs": [],
   "source": [
    "with open('../info.txt', 'r') as file:\n",
    "    username=file.readlines()[0]"
   ]
  },
  {
   "cell_type": "code",
   "execution_count": 6,
   "id": "888308fb",
   "metadata": {},
   "outputs": [],
   "source": [
    "#driver configuration\n",
    "opciones=Options()\n",
    "\n",
    "opciones.add_experimental_option('excludeSwitches', ['enable-automation'])\n",
    "opciones.add_experimental_option('useAutomationExtension', False)\n",
    "opciones.add_argument('--start-maximized')\n",
    "opciones.add_argument(f\"user-data-dir=C:\\\\Users\\\\{username}\\\\AppData\\\\Local\\\\Google\\\\Chrome\\\\User Data\\\\Profile 2\")\n",
    "opciones.add_argument(\"disable-infobars\")\n",
    "opciones.add_argument(\"--incognito\")"
   ]
  },
  {
   "cell_type": "code",
   "execution_count": 7,
   "id": "c97ec996",
   "metadata": {},
   "outputs": [],
   "source": [
    "PATH=ChromeDriverManager().install()\n",
    "\n",
    "driver = webdriver.Chrome(PATH,options = opciones)"
   ]
  },
  {
   "cell_type": "code",
   "execution_count": 8,
   "id": "6a8324bc",
   "metadata": {},
   "outputs": [],
   "source": [
    "def initial_navigation(url):\n",
    "    \n",
    "    driver.get(url)\n",
    "    time.sleep(4)    "
   ]
  },
  {
   "cell_type": "code",
   "execution_count": 6,
   "id": "f6642669",
   "metadata": {},
   "outputs": [],
   "source": [
    "initial_navigation(\"https://www.linkedin.com/in/antonio-lopez-alanis-fernandez/\")"
   ]
  },
  {
   "cell_type": "code",
   "execution_count": 6,
   "id": "b9305393",
   "metadata": {},
   "outputs": [],
   "source": [
    "def search_bar(words):\n",
    "    \n",
    "    driver.find_element(By.XPATH, '//*[@id=\"global-nav-search\"]/div').click()\n",
    "    time.sleep(2)\n",
    "    \n",
    "    #the word sequence we are looking for in the search bar. Then click enter.\n",
    "    search_field = driver.find_element(By.XPATH, '//*[@id=\"global-nav-typeahead\"]/input')\n",
    "    search_field.send_keys(words)\n",
    "    time.sleep(4)\n",
    "    search_field.send_keys('\\n')\n",
    "    time.sleep(random.randint(6,8))\n",
    "    driver.find_element(By.XPATH, '//*[@id=\"search-reusables__filters-bar\"]/ul/li[1]/button').click()\n",
    "    \n",
    "    #only people\n",
    "    time.sleep(4)\n",
    "    for button in driver.find_element(By.ID, 'search-reusables__filters-bar').find_elements(By.CSS_SELECTOR, 'button'):\n",
    "        if button.text == \"Contactos\":\n",
    "            button.click()\n",
    "    \n",
    "    #only second contacts\n",
    "    time.sleep(3)\n",
    "    driver.find_element(By.XPATH, '//*[@id=\"artdeco-hoverable-artdeco-gen-50\"]/div[1]/div/form/fieldset/div[1]/ul/li[2]/label').click()\n",
    "    time.sleep(3)\n",
    "    driver.find_elements(By.CLASS_NAME, 'artdeco-hoverable-content__content')[0].find_elements(By.CSS_SELECTOR, 'button')[1].click()\n",
    "    time.sleep(3)\n",
    "    \n",
    "    #zoom to 25% so it doesnt need to scroll\n",
    "    driver.execute_script(\"document.body.style.zoom='25%'\")\n",
    "\n",
    "\n",
    "    "
   ]
  },
  {
   "cell_type": "code",
   "execution_count": 7,
   "id": "bd9f2435",
   "metadata": {},
   "outputs": [],
   "source": [
    "search_bar(\"data analyst\")"
   ]
  },
  {
   "cell_type": "code",
   "execution_count": 10,
   "id": "a3234b65",
   "metadata": {},
   "outputs": [],
   "source": [
    "def add_contacts():\n",
    "    \n",
    "    #list of people whom we have sent a request\n",
    "    global people\n",
    "    \n",
    "    #data of all the people in the page\n",
    "    time.sleep(random.randint(1,3))\n",
    "    page_contacts_list = driver.find_elements(By.CLASS_NAME, 'reusable-search__result-container')\n",
    "    \n",
    "    #iterate over each person\n",
    "    for contact in page_contacts_list:\n",
    "        if \"más\" in contact.find_element(By.CLASS_NAME, 'entity-result__simple-insight-text-container').text:\n",
    "        \n",
    "        #only select people with 4 contacts or more in common (in descrption the word \"más\" appears only in these conditions)\n",
    "            if \"Conectar\" == contact.find_element(By.TAG_NAME, 'button').text:\n",
    "                contact.find_element(By.TAG_NAME, 'button').click()\n",
    "                time.sleep(random.randint(2,4))\n",
    "                for button in driver.find_element(By.ID, 'artdeco-modal-outlet').find_elements(By.CSS_SELECTOR, 'button'):\n",
    "                    if button.text == \"Enviar\":\n",
    "                        button.click()\n",
    "                        people += 1\n",
    "                        time.sleep(random.randint(3,5))\n",
    "    \n",
    "    #to go to the next page\n",
    "    for button in driver.find_elements(By.CLASS_NAME, 'search-results-container')[0].find_elements(By.CSS_SELECTOR, 'button'):\n",
    "        if button.text == \"Siguiente\":\n",
    "            button.click()\n",
    "            time.sleep(random.randint(3,5))        "
   ]
  },
  {
   "cell_type": "code",
   "execution_count": null,
   "id": "268936d0",
   "metadata": {},
   "outputs": [],
   "source": [
    "people = 0"
   ]
  },
  {
   "cell_type": "code",
   "execution_count": 18,
   "id": "5b03c05e",
   "metadata": {},
   "outputs": [],
   "source": [
    "def people_to_add(number):\n",
    "    while people <= number:\n",
    "        add_contacts()\n",
    "    return \"Today you have added \" + number + \" people automatically :)\""
   ]
  },
  {
   "cell_type": "code",
   "execution_count": 16,
   "id": "5784523a",
   "metadata": {},
   "outputs": [],
   "source": [
    "people_to_add()"
   ]
  }
 ],
 "metadata": {
  "kernelspec": {
   "display_name": "Python 3 (ipykernel)",
   "language": "python",
   "name": "python3"
  },
  "language_info": {
   "codemirror_mode": {
    "name": "ipython",
    "version": 3
   },
   "file_extension": ".py",
   "mimetype": "text/x-python",
   "name": "python",
   "nbconvert_exporter": "python",
   "pygments_lexer": "ipython3",
   "version": "3.8.13"
  }
 },
 "nbformat": 4,
 "nbformat_minor": 5
}
