{
 "cells": [
  {
   "cell_type": "code",
   "execution_count": 1,
   "id": "4e4a3990",
   "metadata": {},
   "outputs": [],
   "source": [
    "from selenium import webdriver\n",
    "\n",
    "from selenium.webdriver.chrome.options import Options\n",
    "from webdriver_manager.chrome import ChromeDriverManager\n",
    "from selenium.webdriver.common.by import By\n",
    "from selenium.webdriver.common.keys import Keys\n",
    "\n",
    "import time\n",
    "\n",
    "import random\n",
    "\n",
    "import warnings\n",
    "warnings.filterwarnings('ignore')"
   ]
  },
  {
   "cell_type": "code",
   "execution_count": 2,
   "id": "8c6cadfe",
   "metadata": {},
   "outputs": [],
   "source": [
    "with open('../info.txt', 'r') as file:\n",
    "    username=file.readlines()[0]"
   ]
  },
  {
   "cell_type": "code",
   "execution_count": 3,
   "id": "888308fb",
   "metadata": {},
   "outputs": [],
   "source": [
    "#driver configuration\n",
    "opciones=Options()\n",
    "\n",
    "opciones.add_experimental_option('excludeSwitches', ['enable-automation'])\n",
    "opciones.add_experimental_option('useAutomationExtension', False)\n",
    "opciones.add_argument('--disable-blink-features=AutomationControlled')\n",
    "opciones.add_argument('--start-maximized')\n",
    "opciones.add_argument(f\"user-data-dir=C:\\\\Users\\\\{username}\\\\AppData\\\\Local\\\\Google\\\\Chrome\\\\User Data\\\\Profile 2\")\n",
    "opciones.add_argument(\"disable-infobars\")"
   ]
  },
  {
   "cell_type": "code",
   "execution_count": 4,
   "id": "d19e545c",
   "metadata": {},
   "outputs": [],
   "source": [
    "PATH = f'C:\\\\Users\\\\{username}\\\\.wdm\\\\drivers\\\\chromedriver\\\\win32\\\\105.0.5195\\\\chromedriver.exe'"
   ]
  },
  {
   "cell_type": "code",
   "execution_count": 5,
   "id": "c97ec996",
   "metadata": {},
   "outputs": [],
   "source": [
    "#PATH=ChromeDriverManager().install()\n",
    "\n",
    "driver = webdriver.Chrome(PATH,options = opciones)"
   ]
  },
  {
   "cell_type": "code",
   "execution_count": 6,
   "id": "75333165",
   "metadata": {},
   "outputs": [],
   "source": [
    "#less possibility of being detected\n",
    "driver.execute_script(\"Object.defineProperty(navigator, 'webdriver', {get: () => undefined})\")"
   ]
  },
  {
   "cell_type": "code",
   "execution_count": 7,
   "id": "6a8324bc",
   "metadata": {},
   "outputs": [],
   "source": [
    "def initial_navigation(url):\n",
    "    \n",
    "    driver.get(url)\n",
    "    time.sleep(4)    "
   ]
  },
  {
   "cell_type": "code",
   "execution_count": 8,
   "id": "f6642669",
   "metadata": {},
   "outputs": [],
   "source": [
    "initial_navigation(\"https://www.linkedin.com/in/antonio-lopez-alanis-fernandez/\") #change to your linkedin"
   ]
  },
  {
   "cell_type": "code",
   "execution_count": 9,
   "id": "b9305393",
   "metadata": {},
   "outputs": [],
   "source": [
    "def search_bar(words):\n",
    "    \n",
    "    driver.find_element(By.XPATH, '//*[@id=\"global-nav-search\"]/div').click()\n",
    "    time.sleep(2)\n",
    "    \n",
    "    #the word sequence we are looking for in the search bar. Then click enter.\n",
    "    search_field = driver.find_element(By.XPATH, '//*[@id=\"global-nav-typeahead\"]/input')\n",
    "    search_field.send_keys(words)\n",
    "    time.sleep(4)\n",
    "    search_field.send_keys('\\n')\n",
    "    time.sleep(random.randint(6,8))\n",
    "    driver.find_element(By.XPATH, '//*[@id=\"search-reusables__filters-bar\"]/ul/li[1]/button').click()\n",
    "    \n",
    "    #only people\n",
    "    time.sleep(8)\n",
    "    for button in driver.find_element(By.ID, 'search-reusables__filters-bar').find_elements(By.CSS_SELECTOR, 'button'):\n",
    "        if button.text == \"Contactos\":\n",
    "            button.click()\n",
    "    \n",
    "    #only second contacts\n",
    "    time.sleep(random.randint(3,4))\n",
    "    driver.find_element(By.XPATH, '//*[@id=\"artdeco-hoverable-artdeco-gen-50\"]/div[1]/div/form/fieldset/div[1]/ul/li[2]/label').click()\n",
    "    time.sleep(random.randint(3,4))\n",
    "    driver.find_elements(By.CLASS_NAME, 'artdeco-hoverable-content__content')[0].find_elements(By.CSS_SELECTOR, 'button')[1].click()\n",
    "    time.sleep(3)\n",
    "\n",
    "\n",
    "    "
   ]
  },
  {
   "cell_type": "code",
   "execution_count": 10,
   "id": "bd9f2435",
   "metadata": {},
   "outputs": [],
   "source": [
    "search_bar(\"data analyst\") #change to your search"
   ]
  },
  {
   "cell_type": "code",
   "execution_count": 11,
   "id": "a3234b65",
   "metadata": {},
   "outputs": [],
   "source": [
    "def add_contacts():\n",
    "    \n",
    "    #list of people whom we have sent a request\n",
    "    global people\n",
    "    \n",
    "    #data of all the people in the page\n",
    "    time.sleep(random.randint(5,7))\n",
    "    page_contacts_list = driver.find_elements(By.CLASS_NAME, 'reusable-search__result-container')\n",
    "    \n",
    "    #iterate over each person\n",
    "    person = 0\n",
    "    for contact in page_contacts_list:\n",
    "        \n",
    "        if person == 3:\n",
    "            driver.execute_script(\"window.scrollTo(0,500)\")\n",
    "            time.sleep(random.randint(2,3))\n",
    "        if person == 8:\n",
    "            driver.execute_script(\"window.scrollTo(500,1000)\")\n",
    "            time.sleep(random.randint(2,3))\n",
    "\n",
    "\n",
    "        if \"más\" in contact.find_element(By.CLASS_NAME, 'entity-result__simple-insight-text-container').text:\n",
    "        \n",
    "        #only select people with 4 contacts or more in common (in descrption the word \"más\" appears only in these conditions)\n",
    "            if \"Conectar\" == contact.find_element(By.TAG_NAME, 'button').text:\n",
    "                contact.find_element(By.TAG_NAME, 'button').click()\n",
    "                time.sleep(random.randint(3,4))\n",
    "                for button in driver.find_element(By.ID, 'artdeco-modal-outlet').find_elements(By.CSS_SELECTOR, 'button'):\n",
    "                    if button.text == \"Enviar\":\n",
    "                        button.click()\n",
    "                        people += 1\n",
    "                        time.sleep(random.randint(3,5))\n",
    "        person += 1\n",
    "           \n",
    "    #to go to the next page\n",
    "    driver.execute_script(\"window.scrollTo(1000,1400)\")\n",
    "\n",
    "    for button in driver.find_elements(By.CLASS_NAME, 'search-results-container')[0].find_elements(By.CSS_SELECTOR, 'button'):\n",
    "        if button.text == \"Siguiente\":\n",
    "            button.click()\n",
    "            time.sleep(random.randint(3,5))        "
   ]
  },
  {
   "cell_type": "code",
   "execution_count": 12,
   "id": "268936d0",
   "metadata": {},
   "outputs": [],
   "source": [
    "people = 0"
   ]
  },
  {
   "cell_type": "code",
   "execution_count": 13,
   "id": "5b03c05e",
   "metadata": {},
   "outputs": [],
   "source": [
    "def people_to_add(number):\n",
    "    while people <= number:\n",
    "        add_contacts()\n",
    "    print(\"Today you have added\", number ,\"people automatically :)\")"
   ]
  },
  {
   "cell_type": "code",
   "execution_count": 14,
   "id": "5784523a",
   "metadata": {},
   "outputs": [
    {
     "ename": "TypeError",
     "evalue": "can only concatenate str (not \"int\") to str",
     "output_type": "error",
     "traceback": [
      "\u001b[1;31m---------------------------------------------------------------------------\u001b[0m",
      "\u001b[1;31mTypeError\u001b[0m                                 Traceback (most recent call last)",
      "Input \u001b[1;32mIn [14]\u001b[0m, in \u001b[0;36m<cell line: 1>\u001b[1;34m()\u001b[0m\n\u001b[1;32m----> 1\u001b[0m \u001b[43mpeople_to_add\u001b[49m\u001b[43m(\u001b[49m\u001b[38;5;241;43m10\u001b[39;49m\u001b[43m)\u001b[49m\n",
      "Input \u001b[1;32mIn [13]\u001b[0m, in \u001b[0;36mpeople_to_add\u001b[1;34m(number)\u001b[0m\n\u001b[0;32m      2\u001b[0m \u001b[38;5;28;01mwhile\u001b[39;00m people \u001b[38;5;241m<\u001b[39m\u001b[38;5;241m=\u001b[39m number:\n\u001b[0;32m      3\u001b[0m     add_contacts()\n\u001b[1;32m----> 4\u001b[0m \u001b[38;5;28;01mreturn\u001b[39;00m \u001b[38;5;124;43m\"\u001b[39;49m\u001b[38;5;124;43mToday you have added \u001b[39;49m\u001b[38;5;124;43m\"\u001b[39;49m\u001b[43m \u001b[49m\u001b[38;5;241;43m+\u001b[39;49m\u001b[43m \u001b[49m\u001b[43mnumber\u001b[49m \u001b[38;5;241m+\u001b[39m \u001b[38;5;124m\"\u001b[39m\u001b[38;5;124m people automatically :)\u001b[39m\u001b[38;5;124m\"\u001b[39m\n",
      "\u001b[1;31mTypeError\u001b[0m: can only concatenate str (not \"int\") to str"
     ]
    }
   ],
   "source": [
    "people_to_add(20) #change to number of people you want to add"
   ]
  },
  {
   "cell_type": "code",
   "execution_count": null,
   "id": "ed882cd9",
   "metadata": {},
   "outputs": [],
   "source": [
    "driver.quit()"
   ]
  }
 ],
 "metadata": {
  "kernelspec": {
   "display_name": "Python 3 (ipykernel)",
   "language": "python",
   "name": "python3"
  },
  "language_info": {
   "codemirror_mode": {
    "name": "ipython",
    "version": 3
   },
   "file_extension": ".py",
   "mimetype": "text/x-python",
   "name": "python",
   "nbconvert_exporter": "python",
   "pygments_lexer": "ipython3",
   "version": "3.8.13"
  }
 },
 "nbformat": 4,
 "nbformat_minor": 5
}
